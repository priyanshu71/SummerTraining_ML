{
 "cells": [
  {
   "cell_type": "markdown",
   "id": "ffbd4da9",
   "metadata": {},
   "source": [
    "\n",
    "<h2> <b> Print statement"
   ]
  },
  {
   "cell_type": "markdown",
   "id": "9d36cc7c",
   "metadata": {},
   "source": [
    "<h3>SYNTAX : print(values, sep='', end='\\n')"
   ]
  },
  {
   "cell_type": "code",
   "execution_count": 41,
   "id": "434249d8",
   "metadata": {},
   "outputs": [
    {
     "name": "stdout",
     "output_type": "stream",
     "text": [
      "3 4 5\n",
      "3\n",
      "4\n"
     ]
    }
   ],
   "source": [
    "value1 = 3\n",
    "value2 = 4\n",
    "value3 = 5\n",
    "\n",
    "print(value1,value2,value3)\n",
    "print(value1) #print always results in newline\n",
    "print(value2)"
   ]
  },
  {
   "cell_type": "code",
   "execution_count": 43,
   "id": "62092bee",
   "metadata": {},
   "outputs": [
    {
     "name": "stdout",
     "output_type": "stream",
     "text": [
      "3 4\n"
     ]
    }
   ],
   "source": [
    "#printing without newline\n",
    "print(value1,end=' ')\n",
    "print(value2)"
   ]
  },
  {
   "cell_type": "code",
   "execution_count": 45,
   "id": "cd9a2eb1",
   "metadata": {},
   "outputs": [
    {
     "name": "stdout",
     "output_type": "stream",
     "text": [
      "Hi! asteya\n"
     ]
    }
   ],
   "source": [
    "#end parameter\n",
    "print(\"Hi\", end=\"!\")\n",
    "print(\" asteya\")"
   ]
  },
  {
   "cell_type": "code",
   "execution_count": 47,
   "id": "c4a72cce",
   "metadata": {},
   "outputs": [
    {
     "name": "stdout",
     "output_type": "stream",
     "text": [
      "3,4,5\n"
     ]
    }
   ],
   "source": [
    "#sep parameter\n",
    "print(value1,value2,value3,sep=\",\")"
   ]
  },
  {
   "cell_type": "markdown",
   "id": "46ce90d7",
   "metadata": {},
   "source": [
    "  <h2> INPUT </h2>"
   ]
  },
  {
   "cell_type": "code",
   "execution_count": 37,
   "id": "03c64621",
   "metadata": {},
   "outputs": [
    {
     "name": "stdout",
     "output_type": "stream",
     "text": [
      "Asteya\n",
      "hello Asteya\n"
     ]
    }
   ],
   "source": [
    "#taking input\n",
    "\n",
    "x = input()  #this output is string\n",
    "print(\"hello \" + x)"
   ]
  },
  {
   "cell_type": "code",
   "execution_count": 38,
   "id": "96618e7c-5ecf-406e-bafb-d3451b188d25",
   "metadata": {},
   "outputs": [
    {
     "name": "stdout",
     "output_type": "stream",
     "text": [
      "Enter your marks out of 40 - 34\n",
      "Percentage =  85.0 %\n"
     ]
    }
   ],
   "source": [
    "x = int(input(\"Enter your marks out of 40 - \")) #typecast explicitly to convert into other datatype\n",
    "print(\"Percentage = \" , (x/40)*100 , \"%\") "
   ]
  },
  {
   "cell_type": "code",
   "execution_count": 8,
   "id": "383e7985",
   "metadata": {},
   "outputs": [
    {
     "name": "stdout",
     "output_type": "stream",
     "text": [
      "Enter name and marks = asteya 59\n",
      "asteya got 59 marks out of 85\n"
     ]
    }
   ],
   "source": [
    "#taking TWO inputs\n",
    "name,marks = input(\"Enter name and marks = \").strip().split(' ')\n",
    "print(\"{} got {} marks out of 85\".format(name,marks))     # output formatting example\n"
   ]
  },
  {
   "cell_type": "markdown",
   "id": "52cd7b86",
   "metadata": {},
   "source": [
    "<h3><b> Multiple input example </b></h3>"
   ]
  },
  {
   "cell_type": "code",
   "execution_count": 6,
   "id": "60379933",
   "metadata": {},
   "outputs": [
    {
     "name": "stdout",
     "output_type": "stream",
     "text": [
      "Enter marks: 22 9.5 16 28.5\n",
      "[22.0, 9.5, 16.0, 28.5]\n",
      "Total =  76.0\n"
     ]
    }
   ],
   "source": [
    "x = list(map(float , input(\"Enter marks: \").split()))\n",
    "print(x)\n",
    "print(\"Total = \", sum(x))"
   ]
  },
  {
   "cell_type": "code",
   "execution_count": 17,
   "id": "c84fc2ab",
   "metadata": {},
   "outputs": [
    {
     "name": "stdout",
     "output_type": "stream",
     "text": [
      "enter dob: 21 11 2000\n",
      "21-11-2000\n",
      "Enter marks: 22 9.5 16 28.5\n",
      "[22.0, 9.5, 16.0, 28.5]\n"
     ]
    }
   ],
   "source": [
    "#using List comprehension\n",
    "a,b,c = [str(i) for i in input(\"enter dob: \").split()]\n",
    "print(a,b,c,sep=\"-\")\n",
    "\n",
    "x = [float(i) for i in input(\"Enter marks: \").split()]\n",
    "print(x)"
   ]
  },
  {
   "cell_type": "markdown",
   "id": "14dd1ac3",
   "metadata": {},
   "source": [
    "<p> <b>List Comprehension is an elegant way to Define and Create List </p>"
   ]
  },
  {
   "cell_type": "code",
   "execution_count": 35,
   "id": "165b82b1",
   "metadata": {},
   "outputs": [
    {
     "name": "stdout",
     "output_type": "stream",
     "text": [
      "[0, 1, 4, 9, 16, 25, 36, 49, 64, 81]\n",
      "Enter numbers: 12 3 5 6 7 2\n",
      "[144, 36, 4]\n"
     ]
    }
   ],
   "source": [
    "square_sequence = [i**2 for i in range(10)]\n",
    "print(square_sequence)\n",
    "\n",
    "#another example \n",
    "\n",
    "x = [i**2 for i in map(int , input(\"Enter numbers: \").split()) if i%2 == 0]  #oh damn idk what i did :P\n",
    "print(x)"
   ]
  },
  {
   "cell_type": "markdown",
   "id": "2885971a",
   "metadata": {},
   "source": [
    "<h2><b> OUTPUT Formatting </b> </h2>"
   ]
  },
  {
   "cell_type": "markdown",
   "id": "afd09f00",
   "metadata": {},
   "source": [
    "<b>1. f-strings"
   ]
  },
  {
   "cell_type": "code",
   "execution_count": 39,
   "id": "f12d6518",
   "metadata": {},
   "outputs": [
    {
     "name": "stdout",
     "output_type": "stream",
     "text": [
      "asteya is 20 years old\n"
     ]
    }
   ],
   "source": [
    "name = 'asteya' \n",
    "age = 20\n",
    "print(f\"{name} is {age} years old\")"
   ]
  },
  {
   "cell_type": "code",
   "execution_count": null,
   "id": "78aa18bc",
   "metadata": {},
   "outputs": [],
   "source": []
  },
  {
   "cell_type": "code",
   "execution_count": null,
   "id": "32c404d1",
   "metadata": {},
   "outputs": [],
   "source": []
  },
  {
   "cell_type": "code",
   "execution_count": null,
   "id": "458c2248",
   "metadata": {},
   "outputs": [],
   "source": []
  },
  {
   "cell_type": "code",
   "execution_count": null,
   "id": "bdda9661",
   "metadata": {},
   "outputs": [],
   "source": []
  },
  {
   "cell_type": "code",
   "execution_count": null,
   "id": "df6c5525",
   "metadata": {},
   "outputs": [],
   "source": []
  },
  {
   "cell_type": "markdown",
   "id": "af9e171f",
   "metadata": {},
   "source": [
    "<h1><b> LISTS "
   ]
  },
  {
   "cell_type": "markdown",
   "id": "3d627dfb",
   "metadata": {},
   "source": [
    "<h1><b> TUPLES"
   ]
  },
  {
   "cell_type": "markdown",
   "id": "ab1787cb",
   "metadata": {},
   "source": [
    "<h1><b> SET"
   ]
  },
  {
   "cell_type": "code",
   "execution_count": null,
   "id": "fbc7f765",
   "metadata": {},
   "outputs": [],
   "source": []
  }
 ],
 "metadata": {
  "kernelspec": {
   "display_name": "Python 3",
   "language": "python",
   "name": "python3"
  },
  "language_info": {
   "codemirror_mode": {
    "name": "ipython",
    "version": 3
   },
   "file_extension": ".py",
   "mimetype": "text/x-python",
   "name": "python",
   "nbconvert_exporter": "python",
   "pygments_lexer": "ipython3",
   "version": "3.8.8"
  }
 },
 "nbformat": 4,
 "nbformat_minor": 5
}
