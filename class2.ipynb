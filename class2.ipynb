{
 "cells": [
  {
   "cell_type": "markdown",
   "id": "b0bbdfb4",
   "metadata": {},
   "source": [
    "<h1><b> Dictionary"
   ]
  },
  {
   "cell_type": "code",
   "execution_count": 1,
   "id": "293a5d3c",
   "metadata": {},
   "outputs": [
    {
     "name": "stdout",
     "output_type": "stream",
     "text": [
      "{'name': 'Asteya', 'age': 16, 'class': 3}\n"
     ]
    }
   ],
   "source": [
    "mydic = dict({'name' : 'Asteya', 'age' : 16, 'class' : 3})\n",
    "print(mydic)\n"
   ]
  },
  {
   "cell_type": "code",
   "execution_count": 4,
   "id": "9599a699-f02f-4f0f-b3e9-5ea7526bcd0d",
   "metadata": {},
   "outputs": [
    {
     "name": "stdout",
     "output_type": "stream",
     "text": [
      "{'name': 'Asteya', 'age': 20, 'class': 3}\n"
     ]
    }
   ],
   "source": [
    "mydic['age'] = 20\n",
    "print(mydic)"
   ]
  },
  {
   "cell_type": "code",
   "execution_count": 5,
   "id": "4143afa6-3ba8-4408-8595-3fc01913d97c",
   "metadata": {},
   "outputs": [
    {
     "name": "stdout",
     "output_type": "stream",
     "text": [
      "{'name': 'Asteya', 'age': 20, 'class': 3, 'year': 3}\n",
      "{'name': 'Asteya', 'age': 20, 'year': 3}\n"
     ]
    }
   ],
   "source": [
    "#removing keys\n",
    "mydic['year'] = mydic['class']\n",
    "print(mydic)\n",
    "del mydic['class']\n",
    "print(mydic)"
   ]
  },
  {
   "cell_type": "markdown",
   "id": "a082fc52-72e5-4b95-a76f-2a1d4033289a",
   "metadata": {},
   "source": [
    "<h2> Control Statements </h2>\n"
   ]
  },
  {
   "cell_type": "markdown",
   "id": "9314bd3a-b574-42d8-a71f-6a0bee3eab0c",
   "metadata": {},
   "source": [
    "<b>if-elif-else</b>"
   ]
  },
  {
   "cell_type": "code",
   "execution_count": 6,
   "id": "03513536-db86-4d2c-b4a2-c9065ef8e14d",
   "metadata": {},
   "outputs": [
    {
     "name": "stdout",
     "output_type": "stream",
     "text": [
      "a is smaller\n"
     ]
    }
   ],
   "source": [
    "a = 10\n",
    "b = 20\n",
    "if a<b :\n",
    "    print(\"a is smaller\")\n",
    "elif a>b :\n",
    "    print(\"b is smaller\")\n",
    "else:\n",
    "    print(\"both equal\")"
   ]
  },
  {
   "cell_type": "markdown",
   "id": "157d131a-8511-4828-9296-48c6bfe145cb",
   "metadata": {},
   "source": [
    "<b> while </b>\n"
   ]
  },
  {
   "cell_type": "code",
   "execution_count": 7,
   "id": "fc3cc3d5-d14b-406d-8af2-35dc5ff6bacd",
   "metadata": {},
   "outputs": [
    {
     "name": "stdout",
     "output_type": "stream",
     "text": [
      "1 2 3 4 "
     ]
    }
   ],
   "source": [
    "a = 1\n",
    "while a<5:\n",
    "    print(a , end=' ')\n",
    "    a += 1"
   ]
  },
  {
   "cell_type": "markdown",
   "id": "253b9dbb-4a8f-4084-8cbd-c89de4002927",
   "metadata": {},
   "source": [
    "<b>for </b>"
   ]
  },
  {
   "cell_type": "code",
   "execution_count": 8,
   "id": "479b5fd6-aded-48d4-bb3a-aecb544370ed",
   "metadata": {},
   "outputs": [
    {
     "name": "stdout",
     "output_type": "stream",
     "text": [
      "0\n",
      "1\n",
      "2\n",
      "3\n",
      "4\n"
     ]
    }
   ],
   "source": [
    "for i in range(5):\n",
    "    print(i)"
   ]
  },
  {
   "cell_type": "code",
   "execution_count": 9,
   "id": "25135e18-efdb-4fe8-85f1-41651d685d2e",
   "metadata": {},
   "outputs": [
    {
     "name": "stdout",
     "output_type": "stream",
     "text": [
      "2\n",
      "3\n",
      "4\n"
     ]
    }
   ],
   "source": [
    "for i in range(2,5):\n",
    "    print(i)"
   ]
  },
  {
   "cell_type": "code",
   "execution_count": 10,
   "id": "18d2f409-ccae-478c-8af9-5734b0df0974",
   "metadata": {},
   "outputs": [
    {
     "name": "stdout",
     "output_type": "stream",
     "text": [
      "1\n",
      "3\n",
      "5\n",
      "7\n",
      "9\n"
     ]
    }
   ],
   "source": [
    "for i in range(1,10,2):\n",
    "    print(i)"
   ]
  },
  {
   "cell_type": "code",
   "execution_count": 11,
   "id": "3d60b589-601e-4d6c-b108-05bf9b2c12bf",
   "metadata": {},
   "outputs": [
    {
     "name": "stdout",
     "output_type": "stream",
     "text": [
      "j u p y t e r "
     ]
    }
   ],
   "source": [
    "name = 'jupyter'\n",
    "for i in name:\n",
    "    print(i , end=' ')"
   ]
  },
  {
   "cell_type": "markdown",
   "id": "d2ff8a1a-ddad-4da1-b1f7-d03bc8a41a74",
   "metadata": {
    "tags": []
   },
   "source": [
    "<h2> Functions </h2>\n"
   ]
  },
  {
   "cell_type": "code",
   "execution_count": 12,
   "id": "1ca96fa1-bdf6-47a7-9756-d37d6a18e500",
   "metadata": {},
   "outputs": [
    {
     "name": "stdout",
     "output_type": "stream",
     "text": [
      "Yo Asteya\n"
     ]
    }
   ],
   "source": [
    "def my_func(name):\n",
    "    print(\"Yo \" + name)\n",
    "my_func('Asteya')\n",
    "    "
   ]
  },
  {
   "cell_type": "code",
   "execution_count": 13,
   "id": "75569d5d-ac4d-47e6-8569-eefe438c3c2e",
   "metadata": {},
   "outputs": [
    {
     "name": "stdout",
     "output_type": "stream",
     "text": [
      "Asteya 20 ECE "
     ]
    }
   ],
   "source": [
    "#*args for variable number of arguments\n",
    "\n",
    "def my_func(*argv):\n",
    "    for arg in argv:\n",
    "        print(arg , end=' ')\n",
    "\n",
    "my_func(\"Asteya\" , 20 , \"ECE\")"
   ]
  },
  {
   "cell_type": "code",
   "execution_count": 14,
   "id": "7a9167c5-a1be-40e0-a1c4-472466dff671",
   "metadata": {},
   "outputs": [],
   "source": [
    "# **kwargs for variable number\n",
    "#  of keyword arguments\n"
   ]
  },
  {
   "cell_type": "code",
   "execution_count": 15,
   "id": "2892fa44-d633-4d60-92c3-ae1fa3fa9249",
   "metadata": {},
   "outputs": [],
   "source": [
    "#lambda function"
   ]
  },
  {
   "cell_type": "markdown",
   "id": "20b6c5ff-c94b-4b83-a683-3a43586e8d99",
   "metadata": {},
   "source": [
    "<h2> Numpy </h2>"
   ]
  },
  {
   "cell_type": "code",
   "execution_count": 16,
   "id": "d2d586f9-f251-4a93-ae9a-9086c35546b7",
   "metadata": {},
   "outputs": [
    {
     "name": "stdout",
     "output_type": "stream",
     "text": [
      "0 ()\n",
      "1 (4,)\n",
      "2 (3, 4)\n"
     ]
    }
   ],
   "source": [
    "import numpy as np\n",
    "a = np.array(10)\n",
    "b = np.array([1,2,3,4])\n",
    "c = np.array([[1,2,3,4],[5,6,7,8],[9,10,11,12]])\n",
    "print(a.ndim ,a.shape)\n",
    "print(b.ndim ,b.shape)\n",
    "print(c.ndim ,c.shape)\n",
    "\n",
    "\n"
   ]
  },
  {
   "cell_type": "code",
   "execution_count": 17,
   "id": "c0804981-ab87-4066-b092-7b76f4b2ffad",
   "metadata": {},
   "outputs": [
    {
     "name": "stdout",
     "output_type": "stream",
     "text": [
      "8\n",
      "[[ 9 10 11 12]]\n"
     ]
    }
   ],
   "source": [
    "print(c[1,3])\n",
    "print(c[-1:])"
   ]
  },
  {
   "cell_type": "code",
   "execution_count": 18,
   "id": "7ad66be0-da91-4225-9df1-4ba42fd14fde",
   "metadata": {},
   "outputs": [
    {
     "name": "stdout",
     "output_type": "stream",
     "text": [
      "[[0.11963932 0.6257406  0.2629771 ]\n",
      " [0.19134931 0.52423581 0.93191144]]\n"
     ]
    }
   ],
   "source": [
    "#random number generator\n",
    "from numpy import random as rd\n",
    "a = rd.rand(2,3)\n",
    "print(a)"
   ]
  },
  {
   "cell_type": "code",
   "execution_count": 19,
   "id": "5e247381-287c-4d36-b9ab-2515247327df",
   "metadata": {},
   "outputs": [
    {
     "name": "stdout",
     "output_type": "stream",
     "text": [
      "[[41 88]\n",
      " [63 64]\n",
      " [57 32]]\n"
     ]
    }
   ],
   "source": [
    "a = rd.randint(100, size=(3,2))\n",
    "print(a)"
   ]
  },
  {
   "cell_type": "code",
   "execution_count": 20,
   "id": "555c5479-41ba-45f7-a7ed-8e17f365f2ab",
   "metadata": {},
   "outputs": [
    {
     "name": "stdout",
     "output_type": "stream",
     "text": [
      "[1 2 3 4 5 6 7 8]\n",
      "[[1 2]\n",
      " [3 4]\n",
      " [5 6]\n",
      " [7 8]]\n",
      "(2, 2, 2)\n",
      "[1 2 3 4 5 6 7 8]\n",
      "[[1]\n",
      " [2]\n",
      " [3]\n",
      " [4]]\n"
     ]
    }
   ],
   "source": [
    "import numpy as np\n",
    "a = np.array([1,2,3,4,5,6,7,8])\n",
    "print(a)\n",
    "b = a.reshape(4,2)\n",
    "print(b)\n",
    "c = a.reshape(2,2,-1) #-1 means unknowm dimension Numpy will calculate for me\n",
    "print(c.shape)\n",
    "d = b.reshape(-1) #-1 converts Multi-D to 1D array\n",
    "print(d)\n",
    "e = np.array([[1],[2],[3],[4]])\n",
    "print(e)"
   ]
  },
  {
   "cell_type": "markdown",
   "id": "62f646c5-198a-46d0-a94a-d477e46c0c32",
   "metadata": {},
   "source": [
    "<h2> Matplotlib </h2>"
   ]
  },
  {
   "cell_type": "code",
   "execution_count": 21,
   "id": "c09d9f2a-a358-4f1f-9a00-28bca364aa8f",
   "metadata": {},
   "outputs": [
    {
     "data": {
      "text/plain": [
       "<function matplotlib.pyplot.show(close=None, block=None)>"
      ]
     },
     "execution_count": 21,
     "metadata": {},
     "output_type": "execute_result"
    },
    {
     "data": {
      "image/png": "[encoded data removed]",
      "text/plain": [
       "<Figure size 432x288 with 1 Axes>"
      ]
     },
     "metadata": {
      "needs_background": "light"
     },
     "output_type": "display_data"
    }
   ],
   "source": [
    "import matplotlib.pyplot as plt\n",
    "import numpy as np\n",
    "\n",
    "x = np.array([1,2,3,4,5])\n",
    "y = np.array([5,3,7,1,9])\n",
    "z = np.array([3,4,2,7,8])\n",
    "plt.plot(x,y,marker='o',color='r')\n",
    "plt.show"
   ]
  }
 ],
 "metadata": {
  "kernelspec": {
   "display_name": "Python 3",
   "language": "python",
   "name": "python3"
  },
  "language_info": {
   "codemirror_mode": {
    "name": "ipython",
    "version": 3
   },
   "file_extension": ".py",
   "mimetype": "text/x-python",
   "name": "python",
   "nbconvert_exporter": "python",
   "pygments_lexer": "ipython3",
   "version": "3.8.8"
  }
 },
 "nbformat": 4,
 "nbformat_minor": 5
}
